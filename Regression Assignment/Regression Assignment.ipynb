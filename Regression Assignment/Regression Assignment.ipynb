{
 "cells": [
  {
   "cell_type": "code",
   "execution_count": 1,
   "id": "86ff3d21",
   "metadata": {},
   "outputs": [
    {
     "data": {
      "text/html": [
       "<div>\n",
       "<style scoped>\n",
       "    .dataframe tbody tr th:only-of-type {\n",
       "        vertical-align: middle;\n",
       "    }\n",
       "\n",
       "    .dataframe tbody tr th {\n",
       "        vertical-align: top;\n",
       "    }\n",
       "\n",
       "    .dataframe thead th {\n",
       "        text-align: right;\n",
       "    }\n",
       "</style>\n",
       "<table border=\"1\" class=\"dataframe\">\n",
       "  <thead>\n",
       "    <tr style=\"text-align: right;\">\n",
       "      <th></th>\n",
       "      <th>age</th>\n",
       "      <th>sex</th>\n",
       "      <th>bmi</th>\n",
       "      <th>children</th>\n",
       "      <th>smoker</th>\n",
       "      <th>charges</th>\n",
       "    </tr>\n",
       "  </thead>\n",
       "  <tbody>\n",
       "    <tr>\n",
       "      <th>0</th>\n",
       "      <td>19</td>\n",
       "      <td>female</td>\n",
       "      <td>27.900</td>\n",
       "      <td>0</td>\n",
       "      <td>yes</td>\n",
       "      <td>16884.92400</td>\n",
       "    </tr>\n",
       "    <tr>\n",
       "      <th>1</th>\n",
       "      <td>18</td>\n",
       "      <td>male</td>\n",
       "      <td>33.770</td>\n",
       "      <td>1</td>\n",
       "      <td>no</td>\n",
       "      <td>1725.55230</td>\n",
       "    </tr>\n",
       "    <tr>\n",
       "      <th>2</th>\n",
       "      <td>28</td>\n",
       "      <td>male</td>\n",
       "      <td>33.000</td>\n",
       "      <td>3</td>\n",
       "      <td>no</td>\n",
       "      <td>4449.46200</td>\n",
       "    </tr>\n",
       "    <tr>\n",
       "      <th>3</th>\n",
       "      <td>33</td>\n",
       "      <td>male</td>\n",
       "      <td>22.705</td>\n",
       "      <td>0</td>\n",
       "      <td>no</td>\n",
       "      <td>21984.47061</td>\n",
       "    </tr>\n",
       "    <tr>\n",
       "      <th>4</th>\n",
       "      <td>32</td>\n",
       "      <td>male</td>\n",
       "      <td>28.880</td>\n",
       "      <td>0</td>\n",
       "      <td>no</td>\n",
       "      <td>3866.85520</td>\n",
       "    </tr>\n",
       "    <tr>\n",
       "      <th>...</th>\n",
       "      <td>...</td>\n",
       "      <td>...</td>\n",
       "      <td>...</td>\n",
       "      <td>...</td>\n",
       "      <td>...</td>\n",
       "      <td>...</td>\n",
       "    </tr>\n",
       "    <tr>\n",
       "      <th>1333</th>\n",
       "      <td>50</td>\n",
       "      <td>male</td>\n",
       "      <td>30.970</td>\n",
       "      <td>3</td>\n",
       "      <td>no</td>\n",
       "      <td>10600.54830</td>\n",
       "    </tr>\n",
       "    <tr>\n",
       "      <th>1334</th>\n",
       "      <td>18</td>\n",
       "      <td>female</td>\n",
       "      <td>31.920</td>\n",
       "      <td>0</td>\n",
       "      <td>no</td>\n",
       "      <td>2205.98080</td>\n",
       "    </tr>\n",
       "    <tr>\n",
       "      <th>1335</th>\n",
       "      <td>18</td>\n",
       "      <td>female</td>\n",
       "      <td>36.850</td>\n",
       "      <td>0</td>\n",
       "      <td>no</td>\n",
       "      <td>1629.83350</td>\n",
       "    </tr>\n",
       "    <tr>\n",
       "      <th>1336</th>\n",
       "      <td>21</td>\n",
       "      <td>female</td>\n",
       "      <td>25.800</td>\n",
       "      <td>0</td>\n",
       "      <td>no</td>\n",
       "      <td>2007.94500</td>\n",
       "    </tr>\n",
       "    <tr>\n",
       "      <th>1337</th>\n",
       "      <td>61</td>\n",
       "      <td>female</td>\n",
       "      <td>29.070</td>\n",
       "      <td>0</td>\n",
       "      <td>yes</td>\n",
       "      <td>29141.36030</td>\n",
       "    </tr>\n",
       "  </tbody>\n",
       "</table>\n",
       "<p>1338 rows × 6 columns</p>\n",
       "</div>"
      ],
      "text/plain": [
       "      age     sex     bmi  children smoker      charges\n",
       "0      19  female  27.900         0    yes  16884.92400\n",
       "1      18    male  33.770         1     no   1725.55230\n",
       "2      28    male  33.000         3     no   4449.46200\n",
       "3      33    male  22.705         0     no  21984.47061\n",
       "4      32    male  28.880         0     no   3866.85520\n",
       "...   ...     ...     ...       ...    ...          ...\n",
       "1333   50    male  30.970         3     no  10600.54830\n",
       "1334   18  female  31.920         0     no   2205.98080\n",
       "1335   18  female  36.850         0     no   1629.83350\n",
       "1336   21  female  25.800         0     no   2007.94500\n",
       "1337   61  female  29.070         0    yes  29141.36030\n",
       "\n",
       "[1338 rows x 6 columns]"
      ]
     },
     "execution_count": 1,
     "metadata": {},
     "output_type": "execute_result"
    }
   ],
   "source": [
    "import pandas as p\n",
    "dataset=p.read_csv('insurance_pre.csv')\n",
    "dataset"
   ]
  },
  {
   "cell_type": "code",
   "execution_count": 10,
   "id": "e412da15",
   "metadata": {},
   "outputs": [
    {
     "name": "stdout",
     "output_type": "stream",
     "text": [
      "dataset       age     bmi  children      charges  sex_male  smoker_yes\n",
      "0      19  27.900         0  16884.92400         0           1\n",
      "1      18  33.770         1   1725.55230         1           0\n",
      "2      28  33.000         3   4449.46200         1           0\n",
      "3      33  22.705         0  21984.47061         1           0\n",
      "4      32  28.880         0   3866.85520         1           0\n",
      "...   ...     ...       ...          ...       ...         ...\n",
      "1333   50  30.970         3  10600.54830         1           0\n",
      "1334   18  31.920         0   2205.98080         0           0\n",
      "1335   18  36.850         0   1629.83350         0           0\n",
      "1336   21  25.800         0   2007.94500         0           0\n",
      "1337   61  29.070         0  29141.36030         0           1\n",
      "\n",
      "[1338 rows x 6 columns]\n",
      "\n"
     ]
    }
   ],
   "source": [
    "dataset=p.get_dummies(dataset,drop_first=True)\n",
    "print(\"dataset {}\\n\".format(dataset))"
   ]
  },
  {
   "cell_type": "code",
   "execution_count": 11,
   "id": "18f6d383",
   "metadata": {},
   "outputs": [
    {
     "data": {
      "text/plain": [
       "Index(['age', 'bmi', 'children', 'charges', 'sex_male', 'smoker_yes'], dtype='object')"
      ]
     },
     "execution_count": 11,
     "metadata": {},
     "output_type": "execute_result"
    }
   ],
   "source": [
    "dataset.columns"
   ]
  },
  {
   "cell_type": "code",
   "execution_count": 14,
   "id": "705a6d36",
   "metadata": {},
   "outputs": [
    {
     "name": "stdout",
     "output_type": "stream",
     "text": [
      "independent       age     bmi  children  sex_male  smoker_yes\n",
      "0      19  27.900         0         0           1\n",
      "1      18  33.770         1         1           0\n",
      "2      28  33.000         3         1           0\n",
      "3      33  22.705         0         1           0\n",
      "4      32  28.880         0         1           0\n",
      "...   ...     ...       ...       ...         ...\n",
      "1333   50  30.970         3         1           0\n",
      "1334   18  31.920         0         0           0\n",
      "1335   18  36.850         0         0           0\n",
      "1336   21  25.800         0         0           0\n",
      "1337   61  29.070         0         0           1\n",
      "\n",
      "[1338 rows x 5 columns]\n",
      "dependent           charges\n",
      "0     16884.92400\n",
      "1      1725.55230\n",
      "2      4449.46200\n",
      "3     21984.47061\n",
      "4      3866.85520\n",
      "...           ...\n",
      "1333  10600.54830\n",
      "1334   2205.98080\n",
      "1335   1629.83350\n",
      "1336   2007.94500\n",
      "1337  29141.36030\n",
      "\n",
      "[1338 rows x 1 columns]\n"
     ]
    }
   ],
   "source": [
    "independent=dataset[['age', 'bmi', 'children', 'sex_male', 'smoker_yes']]\n",
    "dependent=dataset[['charges']]\n",
    "print('independent', independent)\n",
    "print('dependent',dependent)"
   ]
  },
  {
   "cell_type": "code",
   "execution_count": 16,
   "id": "e243b119",
   "metadata": {},
   "outputs": [],
   "source": [
    "from sklearn.model_selection import train_test_split\n",
    "X_train,X_test,y_train,y_test=train_test_split(independent, dependent, test_size=0.90,random_state=0)"
   ]
  },
  {
   "cell_type": "code",
   "execution_count": 18,
   "id": "1e171a9a",
   "metadata": {},
   "outputs": [
    {
     "name": "stdout",
     "output_type": "stream",
     "text": [
      "X_train :       age     bmi  children  sex_male  smoker_yes\n",
      "1198   40  29.355         1         1           0\n",
      "275    47  26.600         2         0           0\n",
      "806    40  41.420         1         0           0\n",
      "1152   43  32.560         3         0           1\n",
      "1206   59  34.800         2         0           0\n",
      "...   ...     ...       ...       ...         ...\n",
      "763    27  26.030         0         1           0\n",
      "835    42  35.970         2         1           0\n",
      "1216   40  25.080         0         1           0\n",
      "559    19  35.530         0         1           0\n",
      "684    33  18.500         1         0           0\n",
      "\n",
      "[133 rows x 5 columns]\n",
      "y_train :           charges\n",
      "1198   6393.60345\n",
      "275    9715.84100\n",
      "806   28476.73499\n",
      "1152  40941.28540\n",
      "1206  36910.60803\n",
      "...           ...\n",
      "763    3070.80870\n",
      "835    7160.33030\n",
      "1216   5415.66120\n",
      "559    1646.42970\n",
      "684    4766.02200\n",
      "\n",
      "[133 rows x 1 columns]\n",
      "X_test:        age     bmi  children  sex_male  smoker_yes\n",
      "578    52  30.200         1         1           0\n",
      "610    47  29.370         1         0           0\n",
      "569    48  40.565         2         1           1\n",
      "1034   61  38.380         0         1           0\n",
      "198    51  18.050         0         0           0\n",
      "...   ...     ...       ...       ...         ...\n",
      "1213   52  33.300         2         0           0\n",
      "637    35  38.095         2         0           0\n",
      "286    46  48.070         2         0           0\n",
      "488    44  38.060         0         0           1\n",
      "444    56  26.695         1         1           1\n",
      "\n",
      "[1205 rows x 5 columns]\n",
      "y_test :           charges\n",
      "578    9724.53000\n",
      "610    8547.69130\n",
      "569   45702.02235\n",
      "1034  12950.07120\n",
      "198    9644.25250\n",
      "...           ...\n",
      "1213  10806.83900\n",
      "637   24915.04626\n",
      "286    9432.92530\n",
      "488   48885.13561\n",
      "444   26109.32905\n",
      "\n",
      "[1205 rows x 1 columns]\n"
     ]
    }
   ],
   "source": [
    "print('X_train :',X_train)\n",
    "print('y_train :', y_train)\n",
    "print('X_test: ', X_test)\n",
    "print('y_test :', y_test)"
   ]
  },
  {
   "cell_type": "code",
   "execution_count": 20,
   "id": "80a58b5a",
   "metadata": {},
   "outputs": [
    {
     "data": {
      "text/html": [
       "<style>#sk-container-id-1 {color: black;}#sk-container-id-1 pre{padding: 0;}#sk-container-id-1 div.sk-toggleable {background-color: white;}#sk-container-id-1 label.sk-toggleable__label {cursor: pointer;display: block;width: 100%;margin-bottom: 0;padding: 0.3em;box-sizing: border-box;text-align: center;}#sk-container-id-1 label.sk-toggleable__label-arrow:before {content: \"▸\";float: left;margin-right: 0.25em;color: #696969;}#sk-container-id-1 label.sk-toggleable__label-arrow:hover:before {color: black;}#sk-container-id-1 div.sk-estimator:hover label.sk-toggleable__label-arrow:before {color: black;}#sk-container-id-1 div.sk-toggleable__content {max-height: 0;max-width: 0;overflow: hidden;text-align: left;background-color: #f0f8ff;}#sk-container-id-1 div.sk-toggleable__content pre {margin: 0.2em;color: black;border-radius: 0.25em;background-color: #f0f8ff;}#sk-container-id-1 input.sk-toggleable__control:checked~div.sk-toggleable__content {max-height: 200px;max-width: 100%;overflow: auto;}#sk-container-id-1 input.sk-toggleable__control:checked~label.sk-toggleable__label-arrow:before {content: \"▾\";}#sk-container-id-1 div.sk-estimator input.sk-toggleable__control:checked~label.sk-toggleable__label {background-color: #d4ebff;}#sk-container-id-1 div.sk-label input.sk-toggleable__control:checked~label.sk-toggleable__label {background-color: #d4ebff;}#sk-container-id-1 input.sk-hidden--visually {border: 0;clip: rect(1px 1px 1px 1px);clip: rect(1px, 1px, 1px, 1px);height: 1px;margin: -1px;overflow: hidden;padding: 0;position: absolute;width: 1px;}#sk-container-id-1 div.sk-estimator {font-family: monospace;background-color: #f0f8ff;border: 1px dotted black;border-radius: 0.25em;box-sizing: border-box;margin-bottom: 0.5em;}#sk-container-id-1 div.sk-estimator:hover {background-color: #d4ebff;}#sk-container-id-1 div.sk-parallel-item::after {content: \"\";width: 100%;border-bottom: 1px solid gray;flex-grow: 1;}#sk-container-id-1 div.sk-label:hover label.sk-toggleable__label {background-color: #d4ebff;}#sk-container-id-1 div.sk-serial::before {content: \"\";position: absolute;border-left: 1px solid gray;box-sizing: border-box;top: 0;bottom: 0;left: 50%;z-index: 0;}#sk-container-id-1 div.sk-serial {display: flex;flex-direction: column;align-items: center;background-color: white;padding-right: 0.2em;padding-left: 0.2em;position: relative;}#sk-container-id-1 div.sk-item {position: relative;z-index: 1;}#sk-container-id-1 div.sk-parallel {display: flex;align-items: stretch;justify-content: center;background-color: white;position: relative;}#sk-container-id-1 div.sk-item::before, #sk-container-id-1 div.sk-parallel-item::before {content: \"\";position: absolute;border-left: 1px solid gray;box-sizing: border-box;top: 0;bottom: 0;left: 50%;z-index: -1;}#sk-container-id-1 div.sk-parallel-item {display: flex;flex-direction: column;z-index: 1;position: relative;background-color: white;}#sk-container-id-1 div.sk-parallel-item:first-child::after {align-self: flex-end;width: 50%;}#sk-container-id-1 div.sk-parallel-item:last-child::after {align-self: flex-start;width: 50%;}#sk-container-id-1 div.sk-parallel-item:only-child::after {width: 0;}#sk-container-id-1 div.sk-dashed-wrapped {border: 1px dashed gray;margin: 0 0.4em 0.5em 0.4em;box-sizing: border-box;padding-bottom: 0.4em;background-color: white;}#sk-container-id-1 div.sk-label label {font-family: monospace;font-weight: bold;display: inline-block;line-height: 1.2em;}#sk-container-id-1 div.sk-label-container {text-align: center;}#sk-container-id-1 div.sk-container {/* jupyter's `normalize.less` sets `[hidden] { display: none; }` but bootstrap.min.css set `[hidden] { display: none !important; }` so we also need the `!important` here to be able to override the default hidden behavior on the sphinx rendered scikit-learn.org. See: https://github.com/scikit-learn/scikit-learn/issues/21755 */display: inline-block !important;position: relative;}#sk-container-id-1 div.sk-text-repr-fallback {display: none;}</style><div id=\"sk-container-id-1\" class=\"sk-top-container\"><div class=\"sk-text-repr-fallback\"><pre>LinearRegression()</pre><b>In a Jupyter environment, please rerun this cell to show the HTML representation or trust the notebook. <br />On GitHub, the HTML representation is unable to render, please try loading this page with nbviewer.org.</b></div><div class=\"sk-container\" hidden><div class=\"sk-item\"><div class=\"sk-estimator sk-toggleable\"><input class=\"sk-toggleable__control sk-hidden--visually\" id=\"sk-estimator-id-1\" type=\"checkbox\" checked><label for=\"sk-estimator-id-1\" class=\"sk-toggleable__label sk-toggleable__label-arrow\">LinearRegression</label><div class=\"sk-toggleable__content\"><pre>LinearRegression()</pre></div></div></div></div></div>"
      ],
      "text/plain": [
       "LinearRegression()"
      ]
     },
     "execution_count": 20,
     "metadata": {},
     "output_type": "execute_result"
    }
   ],
   "source": [
    "from sklearn.linear_model import LinearRegression\n",
    "regressor=LinearRegression()\n",
    "regressor.fit(X_train,y_train)\n"
   ]
  },
  {
   "cell_type": "code",
   "execution_count": null,
   "id": "dbe549f6",
   "metadata": {},
   "outputs": [],
   "source": []
  },
  {
   "cell_type": "code",
   "execution_count": 23,
   "id": "8f25a473",
   "metadata": {},
   "outputs": [],
   "source": [
    "weight=regressor.coef_\n",
    "bias=regressor.intercept_"
   ]
  },
  {
   "cell_type": "code",
   "execution_count": 25,
   "id": "ba8f4e1f",
   "metadata": {},
   "outputs": [
    {
     "name": "stdout",
     "output_type": "stream",
     "text": [
      "weight :  [[  280.81984279   379.39824196   809.70252411   307.30895679\n",
      "  26278.64019248]]\n",
      "bias :  [-14607.27883606]\n"
     ]
    }
   ],
   "source": [
    "print('weight : ', weight)\n",
    "print('bias : ',bias)"
   ]
  },
  {
   "cell_type": "code",
   "execution_count": 27,
   "id": "20ae0633",
   "metadata": {},
   "outputs": [
    {
     "name": "stdout",
     "output_type": "stream",
     "text": [
      "r_score 0.7270899256752571\n"
     ]
    }
   ],
   "source": [
    "y_pred=regressor.predict(X_test)\n",
    "from sklearn.metrics import r2_score\n",
    "r_score=r2_score(y_test,y_pred)\n",
    "print('r_score', r_score)"
   ]
  },
  {
   "cell_type": "code",
   "execution_count": 28,
   "id": "e5c95e02",
   "metadata": {},
   "outputs": [],
   "source": [
    "import pickle\n",
    "filename=\"finalized_model_Mul_linear.sav\"\n",
    "pickle.dump(regressor,open(filename,'wb'))"
   ]
  },
  {
   "cell_type": "code",
   "execution_count": 30,
   "id": "3798c817",
   "metadata": {},
   "outputs": [
    {
     "name": "stdout",
     "output_type": "stream",
     "text": [
      "result [[218474.26425844]]\n"
     ]
    },
    {
     "name": "stderr",
     "output_type": "stream",
     "text": [
      "C:\\Users\\W3TECH\\anaconda3\\Lib\\site-packages\\sklearn\\base.py:464: UserWarning: X does not have valid feature names, but LinearRegression was fitted with feature names\n",
      "  warnings.warn(\n"
     ]
    }
   ],
   "source": [
    "loaded_model=pickle.load(open(\"finalized_model_Mul_linear.sav\",'rb'))\n",
    "result=loaded_model.predict([[578,52,30.200,1,1]])\n",
    "print('result', result)"
   ]
  },
  {
   "cell_type": "code",
   "execution_count": 32,
   "id": "73f3b425",
   "metadata": {},
   "outputs": [
    {
     "name": "stdout",
     "output_type": "stream",
     "text": [
      "X_train [[ 0.0338945  -0.09556521 -0.01292719  0.93447281 -0.52805885]\n",
      " [ 0.55982411 -0.52251789  0.84673109 -1.07012209 -0.52805885]\n",
      " [ 0.0338945   1.77419312 -0.01292719 -1.07012209 -0.52805885]\n",
      " [ 0.2592929   0.40112567  1.70638938 -1.07012209  1.89372831]\n",
      " [ 1.46141773  0.74826688  0.84673109 -1.07012209 -0.52805885]\n",
      " [-1.54389434 -0.21257039  3.42570595 -1.07012209 -0.52805885]\n",
      " [-0.19150391 -0.02660189 -0.87258548  0.93447281 -0.52805885]\n",
      " [-0.71743352  0.52045546 -0.01292719 -1.07012209 -0.52805885]\n",
      " [ 1.61168333  0.94973276  1.70638938  0.93447281 -0.52805885]\n",
      " [ 1.68681614 -0.57055976 -0.87258548 -1.07012209  1.89372831]\n",
      " [ 0.1841601  -0.79217222 -0.87258548  0.93447281 -0.52805885]\n",
      " [-0.0412383   1.96558571 -0.87258548  0.93447281 -0.52805885]\n",
      " [ 1.31115213  0.18416242 -0.87258548 -1.07012209  1.89372831]\n",
      " [-0.34176951  0.67387948  1.70638938  0.93447281 -0.52805885]\n",
      " [-1.16823033  0.31589011 -0.87258548  0.93447281 -0.52805885]\n",
      " [ 0.1841601   0.44916754 -0.87258548 -1.07012209 -0.52805885]\n",
      " [-0.11637111 -1.55309335 -0.01292719  0.93447281 -0.52805885]\n",
      " [ 0.1841601  -0.72398377 -0.01292719 -1.07012209 -0.52805885]\n",
      " [ 0.86035532  0.92958617 -0.01292719  0.93447281 -0.52805885]\n",
      " [-0.94283193  0.08187974 -0.87258548  0.93447281 -0.52805885]\n",
      " [ 0.0338945   1.74474811 -0.01292719  0.93447281 -0.52805885]\n",
      " [ 1.23601933  1.85013026 -0.87258548 -1.07012209 -0.52805885]\n",
      " [-0.79256632  0.85674851  0.84673109  0.93447281  1.89372831]\n",
      " [ 0.1090273   1.59442357 -0.87258548  0.93447281 -0.52805885]\n",
      " [ 0.3344257   0.21360743 -0.01292719  0.93447281  1.89372831]\n",
      " [ 1.46141773  0.32983775  1.70638938 -1.07012209 -0.52805885]\n",
      " [-0.0412383   0.39182725 -0.01292719 -1.07012209 -0.52805885]\n",
      " [ 1.23601933 -1.55309335 -0.87258548  0.93447281  1.89372831]\n",
      " [-1.16823033  1.57737646 -0.87258548  0.93447281  1.89372831]\n",
      " [ 1.46141773 -0.5372404  -0.87258548 -1.07012209 -0.52805885]\n",
      " [-0.41690231  0.30194247 -0.01292719 -1.07012209  1.89372831]\n",
      " [ 0.1841601   1.22868551 -0.87258548 -1.07012209 -0.52805885]\n",
      " [-0.86769912 -0.9564444   0.84673109  0.93447281 -0.52805885]\n",
      " [ 1.61168333 -1.37642327 -0.87258548 -1.07012209 -0.52805885]\n",
      " [-0.34176951  2.07174273  0.84673109 -1.07012209 -0.52805885]\n",
      " [ 0.63495691  0.34998433 -0.01292719 -1.07012209 -0.52805885]\n",
      " [ 0.40955851 -1.09669565 -0.87258548  0.93447281  1.89372831]\n",
      " [ 0.3344257   0.31666498  0.84673109  0.93447281 -0.52805885]\n",
      " [-1.54389434  1.63161727 -0.87258548 -1.07012209 -0.52805885]\n",
      " [ 0.78522251 -0.71391048  0.84673109  0.93447281 -0.52805885]\n",
      " [-1.16823033 -0.89058056 -0.87258548 -1.07012209 -0.52805885]\n",
      " [ 1.23601933  0.56694759 -0.87258548  0.93447281  1.89372831]\n",
      " [ 0.0338945  -0.77512511  0.84673109  0.93447281 -0.52805885]\n",
      " [-0.71743352 -1.55309335  1.70638938 -1.07012209 -0.52805885]\n",
      " [-0.94283193 -1.71504092  1.70638938  0.93447281 -0.52805885]\n",
      " [ 0.48469131 -1.55309335  0.84673109 -1.07012209 -0.52805885]\n",
      " [-1.01796473  0.45381675  0.84673109  0.93447281  1.89372831]\n",
      " [-0.56716792 -0.8324654  -0.87258548 -1.07012209  1.89372831]\n",
      " [ 1.38628493  0.53750258 -0.87258548 -1.07012209 -0.52805885]\n",
      " [-1.54389434 -0.36754414 -0.87258548  0.93447281 -0.52805885]\n",
      " [-0.41690231 -0.33112531 -0.01292719  0.93447281  1.89372831]\n",
      " [-1.54389434 -1.57633941 -0.87258548  0.93447281 -0.52805885]\n",
      " [-0.79256632 -0.8324654   0.84673109 -1.07012209 -0.52805885]\n",
      " [-1.61902714 -0.41713574  1.70638938 -1.07012209  1.89372831]\n",
      " [ 1.61168333 -0.9789156  -0.87258548  0.93447281 -0.52805885]\n",
      " [-1.31849594 -1.50892583 -0.87258548 -1.07012209 -0.52805885]\n",
      " [-0.26663671 -1.2144757   1.70638938 -1.07012209 -0.52805885]\n",
      " [-1.09309753 -1.42136566 -0.01292719 -1.07012209 -0.52805885]\n",
      " [ 1.76194894  0.22832994 -0.87258548  0.93447281 -0.52805885]\n",
      " [ 0.93548812  1.0527903   0.84673109  0.93447281 -0.52805885]\n",
      " [ 0.1090273   0.65528263  0.84673109  0.93447281 -0.52805885]\n",
      " [-0.79256632 -0.42953364 -0.87258548  0.93447281 -0.52805885]\n",
      " [-0.94283193  0.94663328 -0.87258548 -1.07012209  1.89372831]\n",
      " [-0.19150391  0.74826688  0.84673109 -1.07012209  1.89372831]\n",
      " [ 0.0338945  -1.12614066  0.84673109  0.93447281 -0.52805885]\n",
      " [ 1.76194894  1.52313564  1.70638938  0.93447281 -0.52805885]\n",
      " [-0.11637111  0.74826688  0.84673109 -1.07012209 -0.52805885]\n",
      " [ 1.83708174 -0.67749165  0.84673109  0.93447281 -0.52805885]\n",
      " [ 1.01062092 -0.80224552 -0.01292719 -1.07012209 -0.52805885]\n",
      " [ 0.71008971 -0.00723017 -0.87258548 -1.07012209 -0.52805885]\n",
      " [-1.54389434  0.4848115  -0.87258548  0.93447281 -0.52805885]\n",
      " [ 1.01062092 -0.16917774 -0.87258548  0.93447281 -0.52805885]\n",
      " [-0.0412383   0.36703145  0.84673109  0.93447281 -0.52805885]\n",
      " [-0.79256632 -0.05139769 -0.01292719  0.93447281 -0.52805885]\n",
      " [-1.61902714  0.26474877  0.84673109  0.93447281  1.89372831]\n",
      " [-0.11637111  1.57737646 -0.87258548 -1.07012209 -0.52805885]\n",
      " [-1.31849594  1.47664352 -0.87258548  0.93447281 -0.52805885]\n",
      " [ 0.40955851  0.06018342 -0.87258548  0.93447281  1.89372831]\n",
      " [ 0.63495691  1.13415152  0.84673109  0.93447281 -0.52805885]\n",
      " [-1.01796473 -1.14086317 -0.87258548 -1.07012209 -0.52805885]\n",
      " [ 1.83708174  0.70177475 -0.87258548  0.93447281 -0.52805885]\n",
      " [ 0.78522251 -0.39001534 -0.01292719  0.93447281 -0.52805885]\n",
      " [-0.0412383  -1.11141816  1.70638938 -1.07012209 -0.52805885]\n",
      " [-1.39362874 -0.61085293 -0.87258548  0.93447281 -0.52805885]\n",
      " [-0.11637111 -1.55309335  0.84673109 -1.07012209 -0.52805885]\n",
      " [-0.56716792 -1.891711    0.84673109 -1.07012209  1.89372831]\n",
      " [-1.39362874 -1.18890503 -0.01292719  0.93447281 -0.52805885]\n",
      " [-1.24336313 -1.95060103 -0.01292719  0.93447281 -0.52805885]\n",
      " [-0.26663671  0.53130362  0.84673109  0.93447281  1.89372831]\n",
      " [-1.39362874 -1.2144757  -0.87258548 -1.07012209 -0.52805885]\n",
      " [ 1.23601933  0.33138748 -0.01292719  0.93447281 -0.52805885]\n",
      " [ 0.40955851 -1.33225575 -0.87258548  0.93447281 -0.52805885]\n",
      " [ 0.63495691 -0.04209926 -0.87258548  0.93447281 -0.52805885]\n",
      " [ 1.76194894 -0.34584782 -0.87258548 -1.07012209  1.89372831]\n",
      " [-1.16823033 -1.14241291 -0.87258548 -1.07012209 -0.52805885]\n",
      " [ 1.08575372  2.7024859  -0.87258548 -1.07012209  1.89372831]\n",
      " [ 1.08575372  0.03693735 -0.87258548  0.93447281 -0.52805885]\n",
      " [ 1.23601933  0.5715968   2.56604766  0.93447281 -0.52805885]\n",
      " [ 0.1090273   0.89549194 -0.01292719  0.93447281  1.89372831]\n",
      " [ 0.3344257   0.67387948 -0.01292719  0.93447281 -0.52805885]\n",
      " [-1.09309753  0.09582738 -0.87258548  0.93447281 -0.52805885]\n",
      " [-1.31849594 -0.25751278 -0.01292719  0.93447281 -0.52805885]\n",
      " [ 0.2592929  -0.50702052  0.84673109 -1.07012209  1.89372831]\n",
      " [ 1.31115213 -0.18390024  2.56604766 -1.07012209 -0.52805885]\n",
      " [-0.71743352 -1.09669565 -0.01292719 -1.07012209 -0.52805885]\n",
      " [-1.61902714 -0.25751278 -0.01292719  0.93447281 -0.52805885]\n",
      " [ 0.48469131  1.61224555  0.84673109  0.93447281 -0.52805885]\n",
      " [-0.11637111 -1.65382629 -0.87258548  0.93447281  1.89372831]\n",
      " [-0.19150391  0.12527239 -0.87258548 -1.07012209  1.89372831]\n",
      " [ 0.0338945  -0.05759664 -0.87258548 -1.07012209 -0.52805885]\n",
      " [-0.64230072 -0.36057032  0.84673109  0.93447281 -0.52805885]\n",
      " [ 0.63495691  1.57737646 -0.87258548  0.93447281 -0.52805885]\n",
      " [ 1.53655053 -0.21334526 -0.87258548  0.93447281 -0.52805885]\n",
      " [ 0.40955851  1.52391051 -0.87258548  0.93447281 -0.52805885]\n",
      " [ 1.01062092 -0.29005727  1.70638938 -1.07012209 -0.52805885]\n",
      " [ 1.53655053  0.38407856 -0.87258548 -1.07012209  1.89372831]\n",
      " [ 0.48469131  0.03538762  0.84673109 -1.07012209 -0.52805885]\n",
      " [ 1.16088652  0.43444503 -0.87258548  0.93447281 -0.52805885]\n",
      " [-1.16823033  0.52278007 -0.87258548 -1.07012209 -0.52805885]\n",
      " [ 1.23601933 -0.42953364 -0.87258548 -1.07012209 -0.52805885]\n",
      " [-0.56716792 -0.16142905 -0.87258548 -1.07012209 -0.52805885]\n",
      " [-0.49203512  0.45381675  0.84673109 -1.07012209 -0.52805885]\n",
      " [-0.94283193  0.22135612 -0.87258548 -1.07012209  1.89372831]\n",
      " [-1.61902714  1.42395244 -0.87258548 -1.07012209 -0.52805885]\n",
      " [ 0.78522251  0.57779575  2.56604766 -1.07012209 -0.52805885]\n",
      " [ 0.93548812  1.17057036  0.84673109 -1.07012209 -0.52805885]\n",
      " [-1.31849594 -0.87895753 -0.87258548 -1.07012209 -0.52805885]\n",
      " [-1.61902714 -1.30281074 -0.87258548  0.93447281  1.89372831]\n",
      " [-0.94283193 -0.61085293 -0.87258548  0.93447281 -0.52805885]\n",
      " [ 0.1841601   0.92958617  0.84673109  0.93447281 -0.52805885]\n",
      " [ 0.0338945  -0.758078   -0.87258548  0.93447281 -0.52805885]\n",
      " [-1.54389434  0.86139772 -0.87258548  0.93447281 -0.52805885]\n",
      " [-0.49203512 -1.77780529 -0.01292719 -1.07012209 -0.52805885]]\n"
     ]
    }
   ],
   "source": [
    "from sklearn.preprocessing import StandardScaler #this is for SVM \n",
    "sc=StandardScaler()\n",
    "X_train=sc.fit_transform(X_train)\n",
    "X_test=sc.transform(X_test)\n",
    "print('X_train',X_train)"
   ]
  },
  {
   "cell_type": "code",
   "execution_count": 76,
   "id": "c687b015",
   "metadata": {},
   "outputs": [
    {
     "name": "stderr",
     "output_type": "stream",
     "text": [
      "C:\\Users\\W3TECH\\anaconda3\\Lib\\site-packages\\sklearn\\utils\\validation.py:1184: DataConversionWarning: A column-vector y was passed when a 1d array was expected. Please change the shape of y to (n_samples, ), for example using ravel().\n",
      "  y = column_or_1d(y, warn=True)\n"
     ]
    },
    {
     "data": {
      "text/html": [
       "<style>#sk-container-id-17 {color: black;}#sk-container-id-17 pre{padding: 0;}#sk-container-id-17 div.sk-toggleable {background-color: white;}#sk-container-id-17 label.sk-toggleable__label {cursor: pointer;display: block;width: 100%;margin-bottom: 0;padding: 0.3em;box-sizing: border-box;text-align: center;}#sk-container-id-17 label.sk-toggleable__label-arrow:before {content: \"▸\";float: left;margin-right: 0.25em;color: #696969;}#sk-container-id-17 label.sk-toggleable__label-arrow:hover:before {color: black;}#sk-container-id-17 div.sk-estimator:hover label.sk-toggleable__label-arrow:before {color: black;}#sk-container-id-17 div.sk-toggleable__content {max-height: 0;max-width: 0;overflow: hidden;text-align: left;background-color: #f0f8ff;}#sk-container-id-17 div.sk-toggleable__content pre {margin: 0.2em;color: black;border-radius: 0.25em;background-color: #f0f8ff;}#sk-container-id-17 input.sk-toggleable__control:checked~div.sk-toggleable__content {max-height: 200px;max-width: 100%;overflow: auto;}#sk-container-id-17 input.sk-toggleable__control:checked~label.sk-toggleable__label-arrow:before {content: \"▾\";}#sk-container-id-17 div.sk-estimator input.sk-toggleable__control:checked~label.sk-toggleable__label {background-color: #d4ebff;}#sk-container-id-17 div.sk-label input.sk-toggleable__control:checked~label.sk-toggleable__label {background-color: #d4ebff;}#sk-container-id-17 input.sk-hidden--visually {border: 0;clip: rect(1px 1px 1px 1px);clip: rect(1px, 1px, 1px, 1px);height: 1px;margin: -1px;overflow: hidden;padding: 0;position: absolute;width: 1px;}#sk-container-id-17 div.sk-estimator {font-family: monospace;background-color: #f0f8ff;border: 1px dotted black;border-radius: 0.25em;box-sizing: border-box;margin-bottom: 0.5em;}#sk-container-id-17 div.sk-estimator:hover {background-color: #d4ebff;}#sk-container-id-17 div.sk-parallel-item::after {content: \"\";width: 100%;border-bottom: 1px solid gray;flex-grow: 1;}#sk-container-id-17 div.sk-label:hover label.sk-toggleable__label {background-color: #d4ebff;}#sk-container-id-17 div.sk-serial::before {content: \"\";position: absolute;border-left: 1px solid gray;box-sizing: border-box;top: 0;bottom: 0;left: 50%;z-index: 0;}#sk-container-id-17 div.sk-serial {display: flex;flex-direction: column;align-items: center;background-color: white;padding-right: 0.2em;padding-left: 0.2em;position: relative;}#sk-container-id-17 div.sk-item {position: relative;z-index: 1;}#sk-container-id-17 div.sk-parallel {display: flex;align-items: stretch;justify-content: center;background-color: white;position: relative;}#sk-container-id-17 div.sk-item::before, #sk-container-id-17 div.sk-parallel-item::before {content: \"\";position: absolute;border-left: 1px solid gray;box-sizing: border-box;top: 0;bottom: 0;left: 50%;z-index: -1;}#sk-container-id-17 div.sk-parallel-item {display: flex;flex-direction: column;z-index: 1;position: relative;background-color: white;}#sk-container-id-17 div.sk-parallel-item:first-child::after {align-self: flex-end;width: 50%;}#sk-container-id-17 div.sk-parallel-item:last-child::after {align-self: flex-start;width: 50%;}#sk-container-id-17 div.sk-parallel-item:only-child::after {width: 0;}#sk-container-id-17 div.sk-dashed-wrapped {border: 1px dashed gray;margin: 0 0.4em 0.5em 0.4em;box-sizing: border-box;padding-bottom: 0.4em;background-color: white;}#sk-container-id-17 div.sk-label label {font-family: monospace;font-weight: bold;display: inline-block;line-height: 1.2em;}#sk-container-id-17 div.sk-label-container {text-align: center;}#sk-container-id-17 div.sk-container {/* jupyter's `normalize.less` sets `[hidden] { display: none; }` but bootstrap.min.css set `[hidden] { display: none !important; }` so we also need the `!important` here to be able to override the default hidden behavior on the sphinx rendered scikit-learn.org. See: https://github.com/scikit-learn/scikit-learn/issues/21755 */display: inline-block !important;position: relative;}#sk-container-id-17 div.sk-text-repr-fallback {display: none;}</style><div id=\"sk-container-id-17\" class=\"sk-top-container\"><div class=\"sk-text-repr-fallback\"><pre>SVR(C=3000, kernel=&#x27;sigmoid&#x27;)</pre><b>In a Jupyter environment, please rerun this cell to show the HTML representation or trust the notebook. <br />On GitHub, the HTML representation is unable to render, please try loading this page with nbviewer.org.</b></div><div class=\"sk-container\" hidden><div class=\"sk-item\"><div class=\"sk-estimator sk-toggleable\"><input class=\"sk-toggleable__control sk-hidden--visually\" id=\"sk-estimator-id-17\" type=\"checkbox\" checked><label for=\"sk-estimator-id-17\" class=\"sk-toggleable__label sk-toggleable__label-arrow\">SVR</label><div class=\"sk-toggleable__content\"><pre>SVR(C=3000, kernel=&#x27;sigmoid&#x27;)</pre></div></div></div></div></div>"
      ],
      "text/plain": [
       "SVR(C=3000, kernel='sigmoid')"
      ]
     },
     "execution_count": 76,
     "metadata": {},
     "output_type": "execute_result"
    }
   ],
   "source": [
    "from sklearn.svm import SVR\n",
    "regressor=SVR(kernel=\"sigmoid\",C=3000)\n",
    "regressor.fit(X_train,y_train)"
   ]
  },
  {
   "cell_type": "code",
   "execution_count": 62,
   "id": "b44b4b95",
   "metadata": {},
   "outputs": [
    {
     "name": "stdout",
     "output_type": "stream",
     "text": [
      "[8869.47776386]\n"
     ]
    }
   ],
   "source": [
    "bias=regressor.intercept_\n",
    "print(bias)"
   ]
  },
  {
   "cell_type": "code",
   "execution_count": 72,
   "id": "93ae61d4",
   "metadata": {},
   "outputs": [
    {
     "data": {
      "text/plain": [
       "array([  0,   1,   2,   3,   4,   5,   6,   7,   8,   9,  10,  11,  12,\n",
       "        13,  14,  15,  16,  17,  18,  19,  20,  21,  22,  23,  24,  25,\n",
       "        26,  27,  28,  29,  30,  31,  32,  33,  34,  35,  36,  37,  38,\n",
       "        39,  40,  41,  42,  43,  44,  45,  46,  47,  48,  49,  50,  51,\n",
       "        52,  53,  54,  55,  56,  57,  58,  59,  60,  61,  62,  63,  64,\n",
       "        65,  66,  67,  68,  69,  70,  71,  72,  73,  74,  75,  76,  77,\n",
       "        78,  79,  80,  81,  82,  83,  84,  85,  86,  87,  88,  89,  90,\n",
       "        91,  92,  93,  94,  95,  96,  97,  98,  99, 100, 101, 102, 103,\n",
       "       104, 105, 106, 107, 108, 109, 110, 111, 112, 113, 114, 115, 116,\n",
       "       117, 118, 119, 120, 121, 122, 123, 124, 125, 126, 127, 128, 129,\n",
       "       130, 131, 132])"
      ]
     },
     "execution_count": 72,
     "metadata": {},
     "output_type": "execute_result"
    }
   ],
   "source": [
    "regressor.support_"
   ]
  },
  {
   "cell_type": "code",
   "execution_count": 77,
   "id": "bd49f694",
   "metadata": {
    "scrolled": true
   },
   "outputs": [
    {
     "name": "stdout",
     "output_type": "stream",
     "text": [
      "0.6268738727885909\n"
     ]
    }
   ],
   "source": [
    "y_pred=regressor.predict(X_test)\n",
    "from sklearn.metrics import r2_score\n",
    "r_score=r2_score(y_test,y_pred)\n",
    "print(r_score)"
   ]
  },
  {
   "cell_type": "code",
   "execution_count": 95,
   "id": "08d7f3ad",
   "metadata": {},
   "outputs": [
    {
     "data": {
      "image/png": "[encoded data removed]",
      "text/plain": [
       "<Figure size 640x480 with 1 Axes>"
      ]
     },
     "metadata": {},
     "output_type": "display_data"
    }
   ],
   "source": [
    "from sklearn.tree import DecisionTreeRegressor\n",
    "regressor=DecisionTreeRegressor(criterion='absolute_error', splitter='random')\n",
    "regressor=regressor.fit(X_train,y_train)\n",
    "import matplotlib.pyplot as plt\n",
    "from sklearn import tree\n",
    "tree.plot_tree(regressor)\n",
    "plt.show()"
   ]
  },
  {
   "cell_type": "code",
   "execution_count": 96,
   "id": "6d092565",
   "metadata": {},
   "outputs": [
    {
     "name": "stdout",
     "output_type": "stream",
     "text": [
      "0.4611776889956879\n"
     ]
    }
   ],
   "source": [
    "y_pred=regressor.predict(X_test)\n",
    "from sklearn.metrics import r2_score\n",
    "r_score=r2_score(y_test,y_pred)\n",
    "print(r_score)"
   ]
  },
  {
   "cell_type": "code",
   "execution_count": null,
   "id": "00493a71",
   "metadata": {},
   "outputs": [],
   "source": []
  },
  {
   "cell_type": "code",
   "execution_count": null,
   "id": "1f2ae7a7",
   "metadata": {},
   "outputs": [],
   "source": []
  }
 ],
 "metadata": {
  "kernelspec": {
   "display_name": "Python 3 (ipykernel)",
   "language": "python",
   "name": "python3"
  },
  "language_info": {
   "codemirror_mode": {
    "name": "ipython",
    "version": 3
   },
   "file_extension": ".py",
   "mimetype": "text/x-python",
   "name": "python",
   "nbconvert_exporter": "python",
   "pygments_lexer": "ipython3",
   "version": "3.11.4"
  }
 },
 "nbformat": 4,
 "nbformat_minor": 5
}
